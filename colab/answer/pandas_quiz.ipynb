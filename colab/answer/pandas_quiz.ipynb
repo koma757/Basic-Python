{
 "cells": [
  {
   "cell_type": "markdown",
   "metadata": {
    "colab_type": "text",
    "id": "XfmMtuxKYRoO"
   },
   "source": [
    "# Pandas確認課題\n",
    "\n",
    "このPandas確認問題は、データサイエンス100本ノックの問題で最低限必要な問題を抜粋したものです。"
   ]
  },
  {
   "cell_type": "markdown",
   "metadata": {
    "colab_type": "text",
    "id": "9ktBdoeha1jL"
   },
   "source": [
    "## 必要モジュールのインポート\n",
    "\n",
    "この問題で使うモジュールをインポートします．"
   ]
  },
  {
   "cell_type": "code",
   "execution_count": 3,
   "metadata": {
    "colab": {},
    "colab_type": "code",
    "id": "2IhABxEEaq19"
   },
   "outputs": [],
   "source": [
    "import pandas as pd\n",
    "import numpy as np"
   ]
  },
  {
   "cell_type": "markdown",
   "metadata": {
    "colab_type": "text",
    "id": "llLJCZTEa5Rb"
   },
   "source": [
    "## データの読み込み"
   ]
  },
  {
   "cell_type": "code",
   "execution_count": 4,
   "metadata": {
    "colab": {},
    "colab_type": "code",
    "id": "uN-SvpE_a50E"
   },
   "outputs": [],
   "source": [
    "df_customer = pd.read_csv('https://raw.githubusercontent.com/The-Japan-DataScientist-Society/100knocks-preprocess/master/docker/work/data/customer.csv')\n",
    "df_product = pd.read_csv('https://raw.githubusercontent.com/The-Japan-DataScientist-Society/100knocks-preprocess/master/docker/work/data/product.csv')\n",
    "df_receipt = pd.read_csv('https://raw.githubusercontent.com/The-Japan-DataScientist-Society/100knocks-preprocess/master/docker/work/data/receipt.csv')"
   ]
  },
  {
   "cell_type": "markdown",
   "metadata": {
    "colab_type": "text",
    "id": "xm5FMZJobU3Y"
   },
   "source": [
    "---\n",
    "## 問1. 条件抽出\n",
    "> P-006: レシート明細データフレーム「df_receipt」から売上日（sales_ymd）、顧客ID（customer_id）、商品コード（product_cd）、売上数量（quantity）、売上金額（amount）の順に列を指定し、以下の条件を満たすデータを抽出せよ。\n",
    "> - 顧客ID（customer_id）が\"CS018205000001\"\n",
    "> - 売上金額（amount）が1,000以上または売上数量（quantity）が5以上"
   ]
  },
  {
   "cell_type": "code",
   "execution_count": 5,
   "metadata": {
    "colab": {
     "base_uri": "https://localhost:8080/",
     "height": 198
    },
    "colab_type": "code",
    "id": "KSOu6AWabVaD",
    "outputId": "91faaad5-57ca-4a67-c046-195afa4d21df"
   },
   "outputs": [
    {
     "data": {
      "text/html": [
       "<div>\n",
       "<style scoped>\n",
       "    .dataframe tbody tr th:only-of-type {\n",
       "        vertical-align: middle;\n",
       "    }\n",
       "\n",
       "    .dataframe tbody tr th {\n",
       "        vertical-align: top;\n",
       "    }\n",
       "\n",
       "    .dataframe thead th {\n",
       "        text-align: right;\n",
       "    }\n",
       "</style>\n",
       "<table border=\"1\" class=\"dataframe\">\n",
       "  <thead>\n",
       "    <tr style=\"text-align: right;\">\n",
       "      <th></th>\n",
       "      <th>sales_ymd</th>\n",
       "      <th>sales_epoch</th>\n",
       "      <th>store_cd</th>\n",
       "      <th>receipt_no</th>\n",
       "      <th>receipt_sub_no</th>\n",
       "      <th>customer_id</th>\n",
       "      <th>product_cd</th>\n",
       "      <th>quantity</th>\n",
       "      <th>amount</th>\n",
       "    </tr>\n",
       "  </thead>\n",
       "  <tbody>\n",
       "    <tr>\n",
       "      <th>117</th>\n",
       "      <td>20181025</td>\n",
       "      <td>1540425600</td>\n",
       "      <td>S14036</td>\n",
       "      <td>1142</td>\n",
       "      <td>2</td>\n",
       "      <td>ZZ000000000000</td>\n",
       "      <td>P040102023</td>\n",
       "      <td>1</td>\n",
       "      <td>5000</td>\n",
       "    </tr>\n",
       "    <tr>\n",
       "      <th>596</th>\n",
       "      <td>20181219</td>\n",
       "      <td>1545177600</td>\n",
       "      <td>S13015</td>\n",
       "      <td>1132</td>\n",
       "      <td>1</td>\n",
       "      <td>CS015515000083</td>\n",
       "      <td>P071301009</td>\n",
       "      <td>1</td>\n",
       "      <td>5280</td>\n",
       "    </tr>\n",
       "    <tr>\n",
       "      <th>1202</th>\n",
       "      <td>20190903</td>\n",
       "      <td>1567468800</td>\n",
       "      <td>S14011</td>\n",
       "      <td>1192</td>\n",
       "      <td>2</td>\n",
       "      <td>CS011415000006</td>\n",
       "      <td>P080104055</td>\n",
       "      <td>1</td>\n",
       "      <td>10925</td>\n",
       "    </tr>\n",
       "    <tr>\n",
       "      <th>2087</th>\n",
       "      <td>20181025</td>\n",
       "      <td>1540425600</td>\n",
       "      <td>S13004</td>\n",
       "      <td>1142</td>\n",
       "      <td>1</td>\n",
       "      <td>ZZ000000000000</td>\n",
       "      <td>P040102023</td>\n",
       "      <td>1</td>\n",
       "      <td>5000</td>\n",
       "    </tr>\n",
       "    <tr>\n",
       "      <th>3535</th>\n",
       "      <td>20190530</td>\n",
       "      <td>1559174400</td>\n",
       "      <td>S13017</td>\n",
       "      <td>1132</td>\n",
       "      <td>1</td>\n",
       "      <td>CS017513000208</td>\n",
       "      <td>P040102024</td>\n",
       "      <td>1</td>\n",
       "      <td>5000</td>\n",
       "    </tr>\n",
       "    <tr>\n",
       "      <th>...</th>\n",
       "      <td>...</td>\n",
       "      <td>...</td>\n",
       "      <td>...</td>\n",
       "      <td>...</td>\n",
       "      <td>...</td>\n",
       "      <td>...</td>\n",
       "      <td>...</td>\n",
       "      <td>...</td>\n",
       "      <td>...</td>\n",
       "    </tr>\n",
       "    <tr>\n",
       "      <th>99289</th>\n",
       "      <td>20190130</td>\n",
       "      <td>1548806400</td>\n",
       "      <td>S14023</td>\n",
       "      <td>1112</td>\n",
       "      <td>1</td>\n",
       "      <td>CS023514000029</td>\n",
       "      <td>P040102024</td>\n",
       "      <td>1</td>\n",
       "      <td>5000</td>\n",
       "    </tr>\n",
       "    <tr>\n",
       "      <th>99331</th>\n",
       "      <td>20181128</td>\n",
       "      <td>1543363200</td>\n",
       "      <td>S13041</td>\n",
       "      <td>1132</td>\n",
       "      <td>2</td>\n",
       "      <td>ZZ000000000000</td>\n",
       "      <td>P071301008</td>\n",
       "      <td>1</td>\n",
       "      <td>5060</td>\n",
       "    </tr>\n",
       "    <tr>\n",
       "      <th>100296</th>\n",
       "      <td>20180831</td>\n",
       "      <td>1535673600</td>\n",
       "      <td>S12007</td>\n",
       "      <td>1172</td>\n",
       "      <td>1</td>\n",
       "      <td>CS007403000027</td>\n",
       "      <td>P040102024</td>\n",
       "      <td>1</td>\n",
       "      <td>5000</td>\n",
       "    </tr>\n",
       "    <tr>\n",
       "      <th>101252</th>\n",
       "      <td>20190729</td>\n",
       "      <td>1564358400</td>\n",
       "      <td>S12014</td>\n",
       "      <td>1182</td>\n",
       "      <td>2</td>\n",
       "      <td>CS014515000007</td>\n",
       "      <td>P040102023</td>\n",
       "      <td>1</td>\n",
       "      <td>5000</td>\n",
       "    </tr>\n",
       "    <tr>\n",
       "      <th>101763</th>\n",
       "      <td>20190329</td>\n",
       "      <td>1553817600</td>\n",
       "      <td>S13001</td>\n",
       "      <td>1122</td>\n",
       "      <td>2</td>\n",
       "      <td>CS001615000201</td>\n",
       "      <td>P040102023</td>\n",
       "      <td>1</td>\n",
       "      <td>5000</td>\n",
       "    </tr>\n",
       "  </tbody>\n",
       "</table>\n",
       "<p>129 rows × 9 columns</p>\n",
       "</div>"
      ],
      "text/plain": [
       "        sales_ymd  sales_epoch store_cd  receipt_no  receipt_sub_no  \\\n",
       "117      20181025   1540425600   S14036        1142               2   \n",
       "596      20181219   1545177600   S13015        1132               1   \n",
       "1202     20190903   1567468800   S14011        1192               2   \n",
       "2087     20181025   1540425600   S13004        1142               1   \n",
       "3535     20190530   1559174400   S13017        1132               1   \n",
       "...           ...          ...      ...         ...             ...   \n",
       "99289    20190130   1548806400   S14023        1112               1   \n",
       "99331    20181128   1543363200   S13041        1132               2   \n",
       "100296   20180831   1535673600   S12007        1172               1   \n",
       "101252   20190729   1564358400   S12014        1182               2   \n",
       "101763   20190329   1553817600   S13001        1122               2   \n",
       "\n",
       "           customer_id  product_cd  quantity  amount  \n",
       "117     ZZ000000000000  P040102023         1    5000  \n",
       "596     CS015515000083  P071301009         1    5280  \n",
       "1202    CS011415000006  P080104055         1   10925  \n",
       "2087    ZZ000000000000  P040102023         1    5000  \n",
       "3535    CS017513000208  P040102024         1    5000  \n",
       "...                ...         ...       ...     ...  \n",
       "99289   CS023514000029  P040102024         1    5000  \n",
       "99331   ZZ000000000000  P071301008         1    5060  \n",
       "100296  CS007403000027  P040102024         1    5000  \n",
       "101252  CS014515000007  P040102023         1    5000  \n",
       "101763  CS001615000201  P040102023         1    5000  \n",
       "\n",
       "[129 rows x 9 columns]"
      ]
     },
     "execution_count": 5,
     "metadata": {},
     "output_type": "execute_result"
    }
   ],
   "source": [
    "df_receipt.head(5)\n",
    "#01\n",
    "df_receipt[df_receipt['customer_id']==\"CS018205000001\"]\n",
    "#02\n",
    "df_receipt[(df_receipt['amount']>=5000) | (df_receipt['quantity']>=5)]"
   ]
  },
  {
   "cell_type": "markdown",
   "metadata": {
    "colab_type": "text",
    "id": "7WsKq3Voj0LF"
   },
   "source": [
    "---\n",
    "## 問2. ソート\n",
    "> P-18: 顧客データフレーム（df_customer）を生年月日（birth_day）で若い順にソートし、先頭5件を全項目表示せよ。"
   ]
  },
  {
   "cell_type": "code",
   "execution_count": 6,
   "metadata": {
    "colab": {
     "base_uri": "https://localhost:8080/",
     "height": 694
    },
    "colab_type": "code",
    "id": "uLdYmXgdjxaw",
    "outputId": "7a064e8c-4db3-4350-a212-688cb9b49980"
   },
   "outputs": [
    {
     "data": {
      "text/html": [
       "<div>\n",
       "<style scoped>\n",
       "    .dataframe tbody tr th:only-of-type {\n",
       "        vertical-align: middle;\n",
       "    }\n",
       "\n",
       "    .dataframe tbody tr th {\n",
       "        vertical-align: top;\n",
       "    }\n",
       "\n",
       "    .dataframe thead th {\n",
       "        text-align: right;\n",
       "    }\n",
       "</style>\n",
       "<table border=\"1\" class=\"dataframe\">\n",
       "  <thead>\n",
       "    <tr style=\"text-align: right;\">\n",
       "      <th></th>\n",
       "      <th>customer_id</th>\n",
       "      <th>customer_name</th>\n",
       "      <th>gender_cd</th>\n",
       "      <th>gender</th>\n",
       "      <th>birth_day</th>\n",
       "      <th>age</th>\n",
       "      <th>postal_cd</th>\n",
       "      <th>address</th>\n",
       "      <th>application_store_cd</th>\n",
       "      <th>application_date</th>\n",
       "      <th>status_cd</th>\n",
       "    </tr>\n",
       "  </thead>\n",
       "  <tbody>\n",
       "    <tr>\n",
       "      <th>15639</th>\n",
       "      <td>CS035114000004</td>\n",
       "      <td>大村 美里</td>\n",
       "      <td>1</td>\n",
       "      <td>女性</td>\n",
       "      <td>2007-11-25</td>\n",
       "      <td>11</td>\n",
       "      <td>156-0053</td>\n",
       "      <td>東京都世田谷区桜**********</td>\n",
       "      <td>S13035</td>\n",
       "      <td>20150619</td>\n",
       "      <td>6-20091205-6</td>\n",
       "    </tr>\n",
       "    <tr>\n",
       "      <th>7468</th>\n",
       "      <td>CS022103000002</td>\n",
       "      <td>福山 はじめ</td>\n",
       "      <td>9</td>\n",
       "      <td>不明</td>\n",
       "      <td>2007-10-02</td>\n",
       "      <td>11</td>\n",
       "      <td>249-0006</td>\n",
       "      <td>神奈川県逗子市逗子**********</td>\n",
       "      <td>S14022</td>\n",
       "      <td>20160909</td>\n",
       "      <td>0-00000000-0</td>\n",
       "    </tr>\n",
       "    <tr>\n",
       "      <th>10745</th>\n",
       "      <td>CS002113000009</td>\n",
       "      <td>柴田 真悠子</td>\n",
       "      <td>1</td>\n",
       "      <td>女性</td>\n",
       "      <td>2007-09-17</td>\n",
       "      <td>11</td>\n",
       "      <td>184-0014</td>\n",
       "      <td>東京都小金井市貫井南町**********</td>\n",
       "      <td>S13002</td>\n",
       "      <td>20160304</td>\n",
       "      <td>0-00000000-0</td>\n",
       "    </tr>\n",
       "    <tr>\n",
       "      <th>19811</th>\n",
       "      <td>CS004115000014</td>\n",
       "      <td>松井 京子</td>\n",
       "      <td>1</td>\n",
       "      <td>女性</td>\n",
       "      <td>2007-08-09</td>\n",
       "      <td>11</td>\n",
       "      <td>165-0031</td>\n",
       "      <td>東京都中野区上鷺宮**********</td>\n",
       "      <td>S13004</td>\n",
       "      <td>20161120</td>\n",
       "      <td>1-20081231-1</td>\n",
       "    </tr>\n",
       "    <tr>\n",
       "      <th>7039</th>\n",
       "      <td>CS002114000010</td>\n",
       "      <td>山内 遥</td>\n",
       "      <td>1</td>\n",
       "      <td>女性</td>\n",
       "      <td>2007-06-03</td>\n",
       "      <td>11</td>\n",
       "      <td>184-0015</td>\n",
       "      <td>東京都小金井市貫井北町**********</td>\n",
       "      <td>S13002</td>\n",
       "      <td>20160920</td>\n",
       "      <td>6-20100510-1</td>\n",
       "    </tr>\n",
       "  </tbody>\n",
       "</table>\n",
       "</div>"
      ],
      "text/plain": [
       "          customer_id customer_name  gender_cd gender   birth_day  age  \\\n",
       "15639  CS035114000004         大村 美里          1     女性  2007-11-25   11   \n",
       "7468   CS022103000002        福山 はじめ          9     不明  2007-10-02   11   \n",
       "10745  CS002113000009        柴田 真悠子          1     女性  2007-09-17   11   \n",
       "19811  CS004115000014         松井 京子          1     女性  2007-08-09   11   \n",
       "7039   CS002114000010          山内 遥          1     女性  2007-06-03   11   \n",
       "\n",
       "      postal_cd                address application_store_cd  application_date  \\\n",
       "15639  156-0053     東京都世田谷区桜**********               S13035          20150619   \n",
       "7468   249-0006    神奈川県逗子市逗子**********               S14022          20160909   \n",
       "10745  184-0014  東京都小金井市貫井南町**********               S13002          20160304   \n",
       "19811  165-0031    東京都中野区上鷺宮**********               S13004          20161120   \n",
       "7039   184-0015  東京都小金井市貫井北町**********               S13002          20160920   \n",
       "\n",
       "          status_cd  \n",
       "15639  6-20091205-6  \n",
       "7468   0-00000000-0  \n",
       "10745  0-00000000-0  \n",
       "19811  1-20081231-1  \n",
       "7039   6-20100510-1  "
      ]
     },
     "execution_count": 6,
     "metadata": {},
     "output_type": "execute_result"
    }
   ],
   "source": [
    "df_customer.sort_values(by='birth_day',ascending=False).head(5)"
   ]
  },
  {
   "cell_type": "markdown",
   "metadata": {
    "colab_type": "text",
    "id": "1lRGtDSphhyQ"
   },
   "source": [
    "---\n",
    "## 問3. 全件数\n",
    "> P-021: レシート明細データフレーム（df_receipt）に対し、件数をカウントせよ。"
   ]
  },
  {
   "cell_type": "code",
   "execution_count": 7,
   "metadata": {
    "colab": {
     "base_uri": "https://localhost:8080/",
     "height": 35
    },
    "colab_type": "code",
    "id": "m-ihL_fVhhyQ",
    "outputId": "da0669b7-2c34-4dc6-becb-4da002103202"
   },
   "outputs": [
    {
     "data": {
      "text/plain": [
       "sales_ymd         104681\n",
       "sales_epoch       104681\n",
       "store_cd          104681\n",
       "receipt_no        104681\n",
       "receipt_sub_no    104681\n",
       "customer_id       104681\n",
       "product_cd        104681\n",
       "quantity          104681\n",
       "amount            104681\n",
       "dtype: int64"
      ]
     },
     "execution_count": 7,
     "metadata": {},
     "output_type": "execute_result"
    }
   ],
   "source": [
    "df_receipt.count()"
   ]
  },
  {
   "cell_type": "markdown",
   "metadata": {
    "colab_type": "text",
    "id": "MkjDW-oyhhyS"
   },
   "source": [
    "## 問4. ユニーク件数\n",
    "> P-022: レシート明細データフレーム（df_receipt）の顧客ID（customer_id）に対し、ユニーク件数をカウントせよ。"
   ]
  },
  {
   "cell_type": "code",
   "execution_count": 15,
   "metadata": {
    "colab": {
     "base_uri": "https://localhost:8080/",
     "height": 35
    },
    "colab_type": "code",
    "id": "0xSI9r8UhhyS",
    "outputId": "0c5a57f4-2088-4109-a40e-eb76c4845af0"
   },
   "outputs": [
    {
     "data": {
      "text/plain": [
       "8307"
      ]
     },
     "execution_count": 15,
     "metadata": {},
     "output_type": "execute_result"
    }
   ],
   "source": [
    "len(df_receipt['customer_id'].value_counts())\n"
   ]
  },
  {
   "cell_type": "markdown",
   "metadata": {
    "colab_type": "text",
    "id": "h9E9b_yUhhyq"
   },
   "source": [
    "---\n",
    "## 問5. 〇〇ごとに集計\n",
    "> P-035: レシート明細データフレーム（df_receipt）に対し、顧客ID（customer_id）ごとに売上金額（amount）を合計して全顧客の平均を求め、平均以上に買い物をしている顧客を抽出せよ。ただし、顧客IDが\"Z\"から始まるのものは非会員を表すため、除外して計算すること。なお、データは先頭5件だけ表示せよ。\n",
    "\n",
    "会員のみを抽出する方法は、例えば以下の2通りの方法があります。"
   ]
  },
  {
   "cell_type": "code",
   "execution_count": 33,
   "metadata": {},
   "outputs": [],
   "source": [
    "df_receipt_only_member = df_receipt[~df_receipt[\"customer_id\"].str.startswith(\"Z\")]\n",
    "df_receipt_only_member = df_receipt.query(\"not customer_id.str.startswith('Z')\", engine=\"python\")"
   ]
  },
  {
   "cell_type": "code",
   "execution_count": 167,
   "metadata": {
    "colab": {
     "base_uri": "https://localhost:8080/",
     "height": 225
    },
    "colab_type": "code",
    "id": "7lYKkmsohhyq",
    "outputId": "06bbc1ea-d6d0-4841-a6dd-1598974714b6"
   },
   "outputs": [
    {
     "data": {
      "text/html": [
       "<div>\n",
       "<style scoped>\n",
       "    .dataframe tbody tr th:only-of-type {\n",
       "        vertical-align: middle;\n",
       "    }\n",
       "\n",
       "    .dataframe tbody tr th {\n",
       "        vertical-align: top;\n",
       "    }\n",
       "\n",
       "    .dataframe thead th {\n",
       "        text-align: right;\n",
       "    }\n",
       "</style>\n",
       "<table border=\"1\" class=\"dataframe\">\n",
       "  <thead>\n",
       "    <tr style=\"text-align: right;\">\n",
       "      <th></th>\n",
       "      <th>sales_ymd</th>\n",
       "      <th>sales_epoch</th>\n",
       "      <th>store_cd</th>\n",
       "      <th>receipt_no</th>\n",
       "      <th>receipt_sub_no</th>\n",
       "      <th>customer_id</th>\n",
       "      <th>product_cd</th>\n",
       "      <th>quantity</th>\n",
       "      <th>amount</th>\n",
       "    </tr>\n",
       "  </thead>\n",
       "  <tbody>\n",
       "    <tr>\n",
       "      <th>9</th>\n",
       "      <td>20191010</td>\n",
       "      <td>1570665600</td>\n",
       "      <td>S14027</td>\n",
       "      <td>1102</td>\n",
       "      <td>1</td>\n",
       "      <td>CS027514000015</td>\n",
       "      <td>P071101003</td>\n",
       "      <td>1</td>\n",
       "      <td>680</td>\n",
       "    </tr>\n",
       "    <tr>\n",
       "      <th>12</th>\n",
       "      <td>20180506</td>\n",
       "      <td>1525564800</td>\n",
       "      <td>S13039</td>\n",
       "      <td>1112</td>\n",
       "      <td>1</td>\n",
       "      <td>CS039414000052</td>\n",
       "      <td>P059001019</td>\n",
       "      <td>1</td>\n",
       "      <td>428</td>\n",
       "    </tr>\n",
       "    <tr>\n",
       "      <th>13</th>\n",
       "      <td>20190326</td>\n",
       "      <td>1553558400</td>\n",
       "      <td>S13016</td>\n",
       "      <td>112</td>\n",
       "      <td>1</td>\n",
       "      <td>CS016215000032</td>\n",
       "      <td>P091401190</td>\n",
       "      <td>1</td>\n",
       "      <td>780</td>\n",
       "    </tr>\n",
       "    <tr>\n",
       "      <th>34</th>\n",
       "      <td>20190718</td>\n",
       "      <td>1563408000</td>\n",
       "      <td>S14011</td>\n",
       "      <td>112</td>\n",
       "      <td>1</td>\n",
       "      <td>CS011115000004</td>\n",
       "      <td>P060805001</td>\n",
       "      <td>1</td>\n",
       "      <td>495</td>\n",
       "    </tr>\n",
       "    <tr>\n",
       "      <th>36</th>\n",
       "      <td>20180911</td>\n",
       "      <td>1536624000</td>\n",
       "      <td>S13018</td>\n",
       "      <td>1122</td>\n",
       "      <td>2</td>\n",
       "      <td>CS018205000001</td>\n",
       "      <td>P071401012</td>\n",
       "      <td>1</td>\n",
       "      <td>2200</td>\n",
       "    </tr>\n",
       "    <tr>\n",
       "      <th>...</th>\n",
       "      <td>...</td>\n",
       "      <td>...</td>\n",
       "      <td>...</td>\n",
       "      <td>...</td>\n",
       "      <td>...</td>\n",
       "      <td>...</td>\n",
       "      <td>...</td>\n",
       "      <td>...</td>\n",
       "      <td>...</td>\n",
       "    </tr>\n",
       "    <tr>\n",
       "      <th>104650</th>\n",
       "      <td>20181121</td>\n",
       "      <td>1542758400</td>\n",
       "      <td>S14025</td>\n",
       "      <td>1162</td>\n",
       "      <td>1</td>\n",
       "      <td>CS025414000015</td>\n",
       "      <td>P070301036</td>\n",
       "      <td>1</td>\n",
       "      <td>388</td>\n",
       "    </tr>\n",
       "    <tr>\n",
       "      <th>104656</th>\n",
       "      <td>20170730</td>\n",
       "      <td>1501372800</td>\n",
       "      <td>S13005</td>\n",
       "      <td>1102</td>\n",
       "      <td>2</td>\n",
       "      <td>CS005515000093</td>\n",
       "      <td>P071401018</td>\n",
       "      <td>1</td>\n",
       "      <td>2200</td>\n",
       "    </tr>\n",
       "    <tr>\n",
       "      <th>104662</th>\n",
       "      <td>20191024</td>\n",
       "      <td>1571875200</td>\n",
       "      <td>S14011</td>\n",
       "      <td>1132</td>\n",
       "      <td>2</td>\n",
       "      <td>CS011411000001</td>\n",
       "      <td>P071401001</td>\n",
       "      <td>1</td>\n",
       "      <td>1100</td>\n",
       "    </tr>\n",
       "    <tr>\n",
       "      <th>104666</th>\n",
       "      <td>20170330</td>\n",
       "      <td>1490832000</td>\n",
       "      <td>S13017</td>\n",
       "      <td>1112</td>\n",
       "      <td>1</td>\n",
       "      <td>CS017411000016</td>\n",
       "      <td>P071401013</td>\n",
       "      <td>1</td>\n",
       "      <td>2200</td>\n",
       "    </tr>\n",
       "    <tr>\n",
       "      <th>104669</th>\n",
       "      <td>20190726</td>\n",
       "      <td>1564099200</td>\n",
       "      <td>S14006</td>\n",
       "      <td>1122</td>\n",
       "      <td>1</td>\n",
       "      <td>CS006615000114</td>\n",
       "      <td>P071301002</td>\n",
       "      <td>1</td>\n",
       "      <td>2485</td>\n",
       "    </tr>\n",
       "  </tbody>\n",
       "</table>\n",
       "<p>13136 rows × 9 columns</p>\n",
       "</div>"
      ],
      "text/plain": [
       "        sales_ymd  sales_epoch store_cd  receipt_no  receipt_sub_no  \\\n",
       "9        20191010   1570665600   S14027        1102               1   \n",
       "12       20180506   1525564800   S13039        1112               1   \n",
       "13       20190326   1553558400   S13016         112               1   \n",
       "34       20190718   1563408000   S14011         112               1   \n",
       "36       20180911   1536624000   S13018        1122               2   \n",
       "...           ...          ...      ...         ...             ...   \n",
       "104650   20181121   1542758400   S14025        1162               1   \n",
       "104656   20170730   1501372800   S13005        1102               2   \n",
       "104662   20191024   1571875200   S14011        1132               2   \n",
       "104666   20170330   1490832000   S13017        1112               1   \n",
       "104669   20190726   1564099200   S14006        1122               1   \n",
       "\n",
       "           customer_id  product_cd  quantity  amount  \n",
       "9       CS027514000015  P071101003         1     680  \n",
       "12      CS039414000052  P059001019         1     428  \n",
       "13      CS016215000032  P091401190         1     780  \n",
       "34      CS011115000004  P060805001         1     495  \n",
       "36      CS018205000001  P071401012         1    2200  \n",
       "...                ...         ...       ...     ...  \n",
       "104650  CS025414000015  P070301036         1     388  \n",
       "104656  CS005515000093  P071401018         1    2200  \n",
       "104662  CS011411000001  P071401001         1    1100  \n",
       "104666  CS017411000016  P071401013         1    2200  \n",
       "104669  CS006615000114  P071301002         1    2485  \n",
       "\n",
       "[13136 rows x 9 columns]"
      ]
     },
     "execution_count": 167,
     "metadata": {},
     "output_type": "execute_result"
    }
   ],
   "source": [
    "df_receipt_only_member = df_receipt[~df_receipt[\"customer_id\"].str.startswith(\"Z\")]\n",
    "average = df_receipt_only_member['amount'].sum() / df_receipt_only_member['amount'].count()\n",
    "df_receipt_only_member[df_receipt_only_member['amount'] >= average]"
   ]
  },
  {
   "cell_type": "markdown",
   "metadata": {
    "colab_type": "text",
    "id": "iNO7ESvWhhyw"
   },
   "source": [
    "---\n",
    "## 問6. DataFrameの結合\n",
    "> P-038: 顧客データフレーム（df_customer）とレシート明細データフレーム（df_receipt）から、各顧客ごとの売上金額合計を求めよ。ただし、買い物の実績がない顧客については売上金額を0として表示させること。また、顧客は性別コード（gender_cd）が女性（1）であるものを対象とし、非会員（顧客IDが'Z'から始まるもの）は除外すること。なお、結果は先頭5件だけ表示せよ。"
   ]
  },
  {
   "cell_type": "code",
   "execution_count": 10,
   "metadata": {},
   "outputs": [],
   "source": [
    "df_customer_only_member = df_customer[~df_customer[\"customer_id\"].str.startswith(\"Z\")]\n",
    "df_customer_only_member = df_customer.query(\"not customer_id.str.startswith('Z')\", engine=\"python\")"
   ]
  },
  {
   "cell_type": "code",
   "execution_count": 18,
   "metadata": {
    "colab": {
     "base_uri": "https://localhost:8080/",
     "height": 728
    },
    "colab_type": "code",
    "id": "hmc6LUaEhhyw",
    "outputId": "f1b1dc56-af65-4fbf-9d8a-5c0490a2ad17"
   },
   "outputs": [
    {
     "data": {
      "text/plain": [
       "0       0.0\n",
       "1     100.0\n",
       "2     320.0\n",
       "3    2400.0\n",
       "4     448.0\n",
       "Name: amount, dtype: float64"
      ]
     },
     "execution_count": 18,
     "metadata": {},
     "output_type": "execute_result"
    }
   ],
   "source": [
    "df_customer_only_member = df_customer[~df_customer[\"customer_id\"].str.startswith(\"Z\")]\n",
    "df_customer_only_member_women = df_customer_only_member[df_customer_only_member['gender_cd'] == 1]\n",
    "#customer_idが同じものを結合\n",
    "df_merge = pd.merge(df_receipt,df_customer_only_member_women,on=['customer_id'], how=\"right\")\n",
    "#NaNを0に置換\n",
    "df_merge['amount'].fillna(0,inplace=True)\n",
    "df_merge['amount'].head(5)"
   ]
  },
  {
   "cell_type": "markdown",
   "metadata": {
    "colab_type": "text",
    "id": "umDmd8kohhzA"
   },
   "source": [
    "---\n",
    "## 問7. 時系列データ\n",
    "> P-046: 顧客データフレーム（df_customer）の申し込み日（application_date）はYYYYMMD形式の文字列型でデータを保有している。これを日付型（dateやdatetime）に変換し、顧客ID（customer_id）とともに抽出せよ。なお、データは先頭5件を表示せよ。"
   ]
  },
  {
   "cell_type": "code",
   "execution_count": 101,
   "metadata": {
    "colab": {
     "base_uri": "https://localhost:8080/",
     "height": 348
    },
    "colab_type": "code",
    "id": "pVAxV-TWhhzA",
    "outputId": "2d2e2281-7181-41b4-81e4-a9e834b93927"
   },
   "outputs": [
    {
     "data": {
      "text/html": [
       "<div>\n",
       "<style scoped>\n",
       "    .dataframe tbody tr th:only-of-type {\n",
       "        vertical-align: middle;\n",
       "    }\n",
       "\n",
       "    .dataframe tbody tr th {\n",
       "        vertical-align: top;\n",
       "    }\n",
       "\n",
       "    .dataframe thead th {\n",
       "        text-align: right;\n",
       "    }\n",
       "</style>\n",
       "<table border=\"1\" class=\"dataframe\">\n",
       "  <thead>\n",
       "    <tr style=\"text-align: right;\">\n",
       "      <th></th>\n",
       "      <th>customer_id</th>\n",
       "      <th>application_date</th>\n",
       "    </tr>\n",
       "  </thead>\n",
       "  <tbody>\n",
       "    <tr>\n",
       "      <th>0</th>\n",
       "      <td>CS021313000114</td>\n",
       "      <td>2015-09-05</td>\n",
       "    </tr>\n",
       "    <tr>\n",
       "      <th>1</th>\n",
       "      <td>CS037613000071</td>\n",
       "      <td>2015-04-14</td>\n",
       "    </tr>\n",
       "    <tr>\n",
       "      <th>2</th>\n",
       "      <td>CS031415000172</td>\n",
       "      <td>2015-05-29</td>\n",
       "    </tr>\n",
       "    <tr>\n",
       "      <th>3</th>\n",
       "      <td>CS028811000001</td>\n",
       "      <td>2016-01-15</td>\n",
       "    </tr>\n",
       "    <tr>\n",
       "      <th>4</th>\n",
       "      <td>CS001215000145</td>\n",
       "      <td>2017-06-05</td>\n",
       "    </tr>\n",
       "  </tbody>\n",
       "</table>\n",
       "</div>"
      ],
      "text/plain": [
       "      customer_id application_date\n",
       "0  CS021313000114       2015-09-05\n",
       "1  CS037613000071       2015-04-14\n",
       "2  CS031415000172       2015-05-29\n",
       "3  CS028811000001       2016-01-15\n",
       "4  CS001215000145       2017-06-05"
      ]
     },
     "execution_count": 101,
     "metadata": {},
     "output_type": "execute_result"
    }
   ],
   "source": [
    "df_customer['application_date'] = pd.to_datetime(df_customer['application_date'],format='%Y%m%d')\n",
    "df_customer[['customer_id','application_date']].head(5)"
   ]
  },
  {
   "cell_type": "markdown",
   "metadata": {
    "colab_type": "text",
    "id": "9v_q6BLjhhzU"
   },
   "source": [
    "---\n",
    "## 問8. 関数\n",
    "> P-061: レシート明細データフレーム（df_receipt）の売上金額（amount）を顧客ID（customer_id）ごとに合計し、合計した売上金額を常用対数化（底=10）して顧客ID、売上金額合計とともに表示せよ。ただし、顧客IDが\"Z\"から始まるのものは非会員を表すため、除外して計算すること。なお、結果は先頭5件を表示せよ。"
   ]
  },
  {
   "cell_type": "code",
   "execution_count": 140,
   "metadata": {
    "colab": {
     "base_uri": "https://localhost:8080/",
     "height": 437
    },
    "colab_type": "code",
    "id": "d5_2HQ-2hhzU",
    "outputId": "56ba3b92-2071-4a8d-c555-d9007bb43316"
   },
   "outputs": [
    {
     "data": {
      "text/html": [
       "<div>\n",
       "<style scoped>\n",
       "    .dataframe tbody tr th:only-of-type {\n",
       "        vertical-align: middle;\n",
       "    }\n",
       "\n",
       "    .dataframe tbody tr th {\n",
       "        vertical-align: top;\n",
       "    }\n",
       "\n",
       "    .dataframe thead th {\n",
       "        text-align: right;\n",
       "    }\n",
       "</style>\n",
       "<table border=\"1\" class=\"dataframe\">\n",
       "  <thead>\n",
       "    <tr style=\"text-align: right;\">\n",
       "      <th></th>\n",
       "      <th>amount</th>\n",
       "    </tr>\n",
       "    <tr>\n",
       "      <th>customer_id</th>\n",
       "      <th></th>\n",
       "    </tr>\n",
       "  </thead>\n",
       "  <tbody>\n",
       "    <tr>\n",
       "      <th>CS001113000004</th>\n",
       "      <td>3.113275</td>\n",
       "    </tr>\n",
       "    <tr>\n",
       "      <th>CS001114000005</th>\n",
       "      <td>2.796574</td>\n",
       "    </tr>\n",
       "    <tr>\n",
       "      <th>CS001115000010</th>\n",
       "      <td>3.483445</td>\n",
       "    </tr>\n",
       "    <tr>\n",
       "      <th>CS001211000025</th>\n",
       "      <td>2.658965</td>\n",
       "    </tr>\n",
       "    <tr>\n",
       "      <th>CS001212000027</th>\n",
       "      <td>2.651278</td>\n",
       "    </tr>\n",
       "  </tbody>\n",
       "</table>\n",
       "</div>"
      ],
      "text/plain": [
       "                  amount\n",
       "customer_id             \n",
       "CS001113000004  3.113275\n",
       "CS001114000005  2.796574\n",
       "CS001115000010  3.483445\n",
       "CS001211000025  2.658965\n",
       "CS001212000027  2.651278"
      ]
     },
     "execution_count": 140,
     "metadata": {},
     "output_type": "execute_result"
    }
   ],
   "source": [
    "df_customer = pd.read_csv('https://raw.githubusercontent.com/The-Japan-DataScientist-Society/100knocks-preprocess/master/docker/work/data/customer.csv')\n",
    "df_product = pd.read_csv('https://raw.githubusercontent.com/The-Japan-DataScientist-Society/100knocks-preprocess/master/docker/work/data/product.csv')\n",
    "df_receipt = pd.read_csv('https://raw.githubusercontent.com/The-Japan-DataScientist-Society/100knocks-preprocess/master/docker/work/data/receipt.csv')\n",
    "\n",
    "#Zを除外\n",
    "df_customer_only_member = df_customer[~df_customer[\"customer_id\"].str.startswith(\"Z\")]\n",
    "#customer_idが同じものを結合\n",
    "df_merge = pd.merge(df_receipt,df_customer_only_member_women,on=['customer_id'])\n",
    "#重複するものの合計を出力\n",
    "df_ans = df_merge[['amount','customer_id']].groupby('customer_id').sum()\n",
    "#対数をとる\n",
    "df_ans['amount'] = np.log10(df_ans['amount'])\n",
    "df_ans.head(5)\n"
   ]
  },
  {
   "cell_type": "markdown",
   "metadata": {
    "colab_type": "text",
    "id": "boe923CMhhzq"
   },
   "source": [
    "---\n",
    "## 問9. 欠損数\n",
    "> P-079: 商品データフレーム（df_product）の各項目に対し、欠損数を確認せよ。"
   ]
  },
  {
   "cell_type": "code",
   "execution_count": 144,
   "metadata": {
    "colab": {
     "base_uri": "https://localhost:8080/",
     "height": 169
    },
    "colab_type": "code",
    "id": "bxl__vC5hhzq",
    "outputId": "d8bb408a-6897-4e5a-8416-ce67a8a5fce4"
   },
   "outputs": [
    {
     "data": {
      "text/plain": [
       "product_cd            0\n",
       "category_major_cd     0\n",
       "category_medium_cd    0\n",
       "category_small_cd     0\n",
       "unit_price            7\n",
       "unit_cost             7\n",
       "dtype: int64"
      ]
     },
     "execution_count": 144,
     "metadata": {},
     "output_type": "execute_result"
    }
   ],
   "source": [
    "df_product\n",
    "pd.isnull(df_product).sum()"
   ]
  },
  {
   "cell_type": "markdown",
   "metadata": {
    "colab_type": "text",
    "id": "afprSqIvhhzs"
   },
   "source": [
    "---\n",
    "## 問10. 欠損値の除去\n",
    "> P-080: 商品データフレーム（df_product）のいずれかの項目に欠損が発生しているレコードを全て削除した新たなdf_product_1を作成せよ。なお、削除前後の件数を表示させ、前設問で確認した件数だけ減少していることも確認すること。"
   ]
  },
  {
   "cell_type": "code",
   "execution_count": 180,
   "metadata": {
    "colab": {},
    "colab_type": "code",
    "id": "q3_9sLdHhhzt"
   },
   "outputs": [
    {
     "data": {
      "text/html": [
       "<div>\n",
       "<style scoped>\n",
       "    .dataframe tbody tr th:only-of-type {\n",
       "        vertical-align: middle;\n",
       "    }\n",
       "\n",
       "    .dataframe tbody tr th {\n",
       "        vertical-align: top;\n",
       "    }\n",
       "\n",
       "    .dataframe thead th {\n",
       "        text-align: right;\n",
       "    }\n",
       "</style>\n",
       "<table border=\"1\" class=\"dataframe\">\n",
       "  <thead>\n",
       "    <tr style=\"text-align: right;\">\n",
       "      <th></th>\n",
       "      <th>product_cd</th>\n",
       "      <th>category_major_cd</th>\n",
       "      <th>category_medium_cd</th>\n",
       "      <th>category_small_cd</th>\n",
       "      <th>unit_price</th>\n",
       "      <th>unit_cost</th>\n",
       "    </tr>\n",
       "  </thead>\n",
       "  <tbody>\n",
       "    <tr>\n",
       "      <th>0</th>\n",
       "      <td>P040101001</td>\n",
       "      <td>4</td>\n",
       "      <td>401</td>\n",
       "      <td>40101</td>\n",
       "      <td>198.0</td>\n",
       "      <td>149.0</td>\n",
       "    </tr>\n",
       "    <tr>\n",
       "      <th>1</th>\n",
       "      <td>P040101002</td>\n",
       "      <td>4</td>\n",
       "      <td>401</td>\n",
       "      <td>40101</td>\n",
       "      <td>218.0</td>\n",
       "      <td>164.0</td>\n",
       "    </tr>\n",
       "    <tr>\n",
       "      <th>2</th>\n",
       "      <td>P040101003</td>\n",
       "      <td>4</td>\n",
       "      <td>401</td>\n",
       "      <td>40101</td>\n",
       "      <td>230.0</td>\n",
       "      <td>173.0</td>\n",
       "    </tr>\n",
       "    <tr>\n",
       "      <th>3</th>\n",
       "      <td>P040101004</td>\n",
       "      <td>4</td>\n",
       "      <td>401</td>\n",
       "      <td>40101</td>\n",
       "      <td>248.0</td>\n",
       "      <td>186.0</td>\n",
       "    </tr>\n",
       "    <tr>\n",
       "      <th>4</th>\n",
       "      <td>P040101005</td>\n",
       "      <td>4</td>\n",
       "      <td>401</td>\n",
       "      <td>40101</td>\n",
       "      <td>268.0</td>\n",
       "      <td>201.0</td>\n",
       "    </tr>\n",
       "    <tr>\n",
       "      <th>...</th>\n",
       "      <td>...</td>\n",
       "      <td>...</td>\n",
       "      <td>...</td>\n",
       "      <td>...</td>\n",
       "      <td>...</td>\n",
       "      <td>...</td>\n",
       "    </tr>\n",
       "    <tr>\n",
       "      <th>10025</th>\n",
       "      <td>P091503001</td>\n",
       "      <td>9</td>\n",
       "      <td>915</td>\n",
       "      <td>91503</td>\n",
       "      <td>280.0</td>\n",
       "      <td>210.0</td>\n",
       "    </tr>\n",
       "    <tr>\n",
       "      <th>10026</th>\n",
       "      <td>P091503002</td>\n",
       "      <td>9</td>\n",
       "      <td>915</td>\n",
       "      <td>91503</td>\n",
       "      <td>680.0</td>\n",
       "      <td>510.0</td>\n",
       "    </tr>\n",
       "    <tr>\n",
       "      <th>10027</th>\n",
       "      <td>P091503003</td>\n",
       "      <td>9</td>\n",
       "      <td>915</td>\n",
       "      <td>91503</td>\n",
       "      <td>1080.0</td>\n",
       "      <td>810.0</td>\n",
       "    </tr>\n",
       "    <tr>\n",
       "      <th>10028</th>\n",
       "      <td>P091503004</td>\n",
       "      <td>9</td>\n",
       "      <td>915</td>\n",
       "      <td>91503</td>\n",
       "      <td>1130.0</td>\n",
       "      <td>848.0</td>\n",
       "    </tr>\n",
       "    <tr>\n",
       "      <th>10029</th>\n",
       "      <td>P091503005</td>\n",
       "      <td>9</td>\n",
       "      <td>915</td>\n",
       "      <td>91503</td>\n",
       "      <td>1280.0</td>\n",
       "      <td>960.0</td>\n",
       "    </tr>\n",
       "  </tbody>\n",
       "</table>\n",
       "<p>10030 rows × 6 columns</p>\n",
       "</div>"
      ],
      "text/plain": [
       "       product_cd  category_major_cd  category_medium_cd  category_small_cd  \\\n",
       "0      P040101001                  4                 401              40101   \n",
       "1      P040101002                  4                 401              40101   \n",
       "2      P040101003                  4                 401              40101   \n",
       "3      P040101004                  4                 401              40101   \n",
       "4      P040101005                  4                 401              40101   \n",
       "...           ...                ...                 ...                ...   \n",
       "10025  P091503001                  9                 915              91503   \n",
       "10026  P091503002                  9                 915              91503   \n",
       "10027  P091503003                  9                 915              91503   \n",
       "10028  P091503004                  9                 915              91503   \n",
       "10029  P091503005                  9                 915              91503   \n",
       "\n",
       "       unit_price  unit_cost  \n",
       "0           198.0      149.0  \n",
       "1           218.0      164.0  \n",
       "2           230.0      173.0  \n",
       "3           248.0      186.0  \n",
       "4           268.0      201.0  \n",
       "...           ...        ...  \n",
       "10025       280.0      210.0  \n",
       "10026       680.0      510.0  \n",
       "10027      1080.0      810.0  \n",
       "10028      1130.0      848.0  \n",
       "10029      1280.0      960.0  \n",
       "\n",
       "[10030 rows x 6 columns]"
      ]
     },
     "execution_count": 180,
     "metadata": {},
     "output_type": "execute_result"
    }
   ],
   "source": [
    "df_product1 = df_product.dropna(how='any')\n",
    "df_product1"
   ]
  },
  {
   "cell_type": "markdown",
   "metadata": {
    "colab_type": "text",
    "id": "GtiO20ZKhhzu"
   },
   "source": [
    "---\n",
    "## 問11. 欠損値の穴埋め\n",
    "> P-081: 単価（unit_price）と原価（unit_cost）の欠損値について、それぞれの平均値で補完した新たなdf_product_2を作成せよ。なお、平均値について1円未満は四捨五入とせよ。補完実施後、各項目について欠損が生じていないことも確認すること。"
   ]
  },
  {
   "cell_type": "code",
   "execution_count": 179,
   "metadata": {
    "colab": {},
    "colab_type": "code",
    "id": "puFf-7Ewhhzu"
   },
   "outputs": [
    {
     "data": {
      "text/plain": [
       "product_cd            0\n",
       "category_major_cd     0\n",
       "category_medium_cd    0\n",
       "category_small_cd     0\n",
       "unit_price            0\n",
       "unit_cost             0\n",
       "dtype: int64"
      ]
     },
     "execution_count": 179,
     "metadata": {},
     "output_type": "execute_result"
    }
   ],
   "source": [
    "#四捨五入のための関数\n",
    "def round_off(num):\n",
    "    if num%10 >= 5:\n",
    "        num_new = (num//10)*10 + 10\n",
    "    else:\n",
    "        num_new = (num//10)*10\n",
    "    return(num_new)\n",
    "\n",
    "average_price = round_off(df_product['unit_price'].mean())\n",
    "average_cost = round_off(df_product['unit_cost'].mean())\n",
    "df_product2 = df_product\n",
    "df_product2['unit_price'] = df_product['unit_price'].fillna(average_price)\n",
    "df_product2['unit_cost'] = df_product['unit_cost'].fillna(average_cost)\n",
    "\n",
    "\n",
    "pd.isnull(df_product2).sum()"
   ]
  }
 ],
 "metadata": {
  "colab": {
   "name": "pandas_quiz.ipynb",
   "provenance": []
  },
  "kernelspec": {
   "display_name": "Python 3.9.12 ('base': conda)",
   "language": "python",
   "name": "python3"
  },
  "language_info": {
   "codemirror_mode": {
    "name": "ipython",
    "version": 3
   },
   "file_extension": ".py",
   "mimetype": "text/x-python",
   "name": "python",
   "nbconvert_exporter": "python",
   "pygments_lexer": "ipython3",
   "version": "3.9.12"
  },
  "vscode": {
   "interpreter": {
    "hash": "a0166dea50c9dd29d58c894bd130cf1e2c38d0bf1939ce892749157541e6c99f"
   }
  }
 },
 "nbformat": 4,
 "nbformat_minor": 4
}
